{
 "cells": [
  {
   "cell_type": "markdown",
   "id": "8d9e8fa7",
   "metadata": {},
   "source": [
    "# Soil moisture sensor test\n",
    "\n",
    "## Soil properties\n",
    "\n",
    "### Texture\n",
    "\n",
    "**Sand**: 29%  \n",
    "**Silt**: 26%  \n",
    "**Clay**: 45%  \n",
    "**Texture**: Clay\n",
    "\n",
    "### Hydraulic properties (from [Soil Hydraulic Properties Calculator](http://www.dynsystem.com/netstorm/soilwater.html))\n",
    "\n",
    "**Wilting point**: 0.252 cm<sup>3</sup>/cm<sup>3</sup>  \n",
    "**Field capacity**: 0.385 cm<sup>3</sup>/cm<sup>3</sup>  \n",
    "**Saturation**: 0.522 cm<sup>3</sup>/cm<sup>3</sup>  \n",
    "**Bulk density**: 1.2667 g/cm\n",
    "\n",
    "## Sensor\n",
    "\n",
    "*Add sensor description here*\n",
    "\n",
    "## Samples\n",
    "\n",
    "\n",
    "| Sample |  Water added to 250 ml of soil (ml) | Wet weight (g) | Dry weight (g) | Water content (g) | Volume (cm<sup>3</sup>) | Density (g/cm<sup>3</sup>) | Gravimetric Water Content (%) | Volumetric Water Content (%) | Sensor temperature (ºC) | Sensor moisture (%) | Sensor conductivity (us/cm) |\n",
    "| --- | --- | --- | --- | --- | --- | --- | --- | --- | --- | --- | --- |\n",
    "|  0  |  00.0 | 255.76 | 255.76 |  0.00 | 220.54 | 1.16 |  0.00 |  0.00 | 16.49 ± 0.03 |  0.00 ± 0.00 | 118.18 ± 0.46 |\n",
    "|  1  |  25.0 | 234.59 | 209.09 | 25.50 | 220.54 | 0.95 | 12.20 | 11.56 | 16.96 ± 0.05 | 18.38 ± 0.03 | 126.89 ± 0.31 |\n",
    "|  2  |  12.5 | 252.99 | 232.91 | 20.01 | 220.54 | 1.06 |  8.62 |  9.10 | 17.72 ± 0.08 | 18.00 ± 0.00 | 116.66 ± 0.48 |\n",
    "|  3  |  12.5 | 252.28 | 232.83 | 19.45 | 220.54 | 1.06 |  8.35 |  8.82 | 18.32 ± 0.08 | 18.00 ± 0.00 | 121.27 ± 0.45 |\n",
    "|  4  |  12.5 | 248.07 | 228.83 | 19.23 | 220.54 | 1.04 |  8.41 |  8.72 | 18.53 ± 0.09 | 18.00 ± 0.00 | 118.85 ± 0.36 |\n",
    "|  5  |  25.0 | 214.80 | 189.88 | 24.92 | 220.54 | 0.86 | 13.12 | 11.30 | 18.46 ± 0.05 | 18.50 ± 0.00 | 119.00 ± 0.28 |\n",
    "|  6  |  25.0 | 226.71 | 200.07 | 26.64 | 220.54 | 0.91 | 13.32 | 12.08 | 18.13 ± 0.05 | 18.50 ± 0.01 | 122.44 ± 0.61 |\n",
    "|  7  |  37.5 | 233.97 | 205.28 | 28.69 | 220.54 | 0.93 | 13.98 | 14.31 | 22.61 ± 0.02 | 19.16 ± 0.05 | 135.69 ± 0.93 |\n",
    "|  8  |  37.5 | 227.66 | 199.24 | 28.42 | 220.54 | 0.90 | 14.26 | 14.17 | 24.10 ± 0.05 | 19.38 ± 0.04 | 135.65 ± 0.89 |\n",
    "|  9  |  37.5 | 228.16 | 199.97 | 28.19 | 220.54 | 0.91 | 14.10 | 14.06 | 24.25 ± 0.05 | 19.29 ± 0.02 | 131.99 ± 0.64 |\n",
    "| 10* |  50.0 | 198.24 | 170.21 | 28.03 | 220.54 | 0.77 | 16.47 | 13.98 | 22.91 ± 0.03 | 21.72 ± 0.07 | 139.24 ± 0.43 |\n",
    "| 11  |  50.0 | 214.27 | 175.74 | 38.53 | 220.54 | 0.80 | 21.92 | 19.21 | 22.02 ± 0.11 | 20.89 ± 0.07 | 140.64 ± 0.59 |\n",
    "| 12  |  50.0 | 213.65 | 174.33 | 39.32 | 220.54 | 0.79 | 22.55 | 19.61 | 22.25 ± 0.10 | 21.16 ± 0.05 | 141.91 ± 0.29 |\n",
    "| 13  |  62.5 | 254.48 | 201.39 | 53.09 | 220.54 | 0.91 | 26.36 | 24.07 | 17.70 ± 0.13 | 35.37 ± 0.16 | 230.60 ± 0.51 |\n",
    "| 14  |  62.5 | 274.87 | 218.10 | 56.77 | 220.54 | 0.99 | 26.03 | 25.74 | 19.37 ± 0.05 | 41.65 ± 0.19 | 274.94 ± 0.24 |\n",
    "| 15  |  62.5 | 277.90 | 216.25 | 61.65 | 220.54 | 0.98 | 28.51 | 27.95 | 20.80 ± 0.03 | 53.66 ± 0.18 | 350.12 ± 1.31 |\n",
    "| 16  |  75.0 | 300.92 | 225.90 | 75.02 | 220.54 | 1.02 | 33.21 | 34.02 | 19.74 ± 0.08 | 66.34 ± 0.57 | 477.31 ± 2.63 |\n",
    "| 17  |  75.0 | 326.95 | 247.06 | 79.89 | 220.54 | 1.12 | 32.34 | 36.22 | 19.71 ± 0.10 | 81.80 ± 0.53 | 506.66 ± 2.76 |\n",
    "| 18  |  75.0 | 312.16 | 238.25 | 73.91 | 220.54 | 1.08 | 31.02 | 33.51 | 20.70 ± 0.09 | 77.49 ± 0.55 | 438.69 ± 1.40 |\n",
    "| --- |   --- |    --- |    --- |   --- |    --- |  --- |   --- |   --- |          --- |          --- |           --- |"
   ]
  },
  {
   "cell_type": "code",
   "execution_count": 89,
   "id": "initial_id",
   "metadata": {
    "ExecuteTime": {
     "end_time": "2023-08-07T20:27:13.408006900Z",
     "start_time": "2023-08-07T20:27:13.322991800Z"
    },
    "collapsed": true
   },
   "outputs": [],
   "source": [
    "# import libraries\n",
    "import serial\n",
    "import pandas as pd\n",
    "import numpy as np"
   ]
  },
  {
   "cell_type": "code",
   "execution_count": 102,
   "id": "2af92d76",
   "metadata": {},
   "outputs": [
    {
     "name": "stdout",
     "output_type": "stream",
     "text": [
      "/dev/cu.BASSOn-Ear: n/a [n/a]\n",
      "/dev/cu.BLTH: n/a [n/a]\n",
      "/dev/cu.Bluetooth-Incoming-Port: n/a [n/a]\n",
      "/dev/cu.SoundcoreLifeDot2: n/a [n/a]\n",
      "/dev/cu.usbmodem144201: Arduino Nano Every [USB VID:PID=2341:0058 SER=EACDF045515146544E4B2020FF0D4847 LOCATION=20-4.2]\n"
     ]
    }
   ],
   "source": [
    "# list ports to find the arduino\n",
    "import serial.tools.list_ports\n",
    "ports = serial.tools.list_ports.comports()\n",
    "for port, desc, hwid in sorted(ports):\n",
    "    print(\"{}: {} [{}]\".format(port, desc, hwid))"
   ]
  },
  {
   "cell_type": "code",
   "execution_count": 103,
   "id": "2b01e0b8",
   "metadata": {},
   "outputs": [],
   "source": [
    "port = '/dev/cu.usbmodem144201'"
   ]
  },
  {
   "cell_type": "markdown",
   "id": "495404c1",
   "metadata": {},
   "source": [
    "Acá comienza la lectura"
   ]
  },
  {
   "cell_type": "code",
   "execution_count": 116,
   "id": "974f49419f7e2054",
   "metadata": {
    "ExecuteTime": {
     "end_time": "2023-08-07T20:27:13.484032900Z",
     "start_time": "2023-08-07T20:27:13.330197100Z"
    },
    "collapsed": false
   },
   "outputs": [
    {
     "name": "stdout",
     "output_type": "stream",
     "text": [
      "1 b'Starting...\\r\\n'\n",
      "2 b'Reading ComWinTop Soil Moisture Sensor (Model THC-S)\\r\\n'\n",
      "3 b'Temp: 75.30. Hum: 75.40. Cond: 433\\r\\n'\n",
      "4 b'Temp: 20.50. Hum: 75.60. Cond: 436\\r\\n'\n",
      "5 b'Temp: 20.50. Hum: 75.80. Cond: 435\\r\\n'\n",
      "6 b'Temp: 20.50. Hum: 75.90. Cond: 436\\r\\n'\n",
      "7 b'Temp: 20.50. Hum: 76.00. Cond: 436\\r\\n'\n",
      "8 b'Temp: 20.50. Hum: 76.10. Cond: 436\\r\\n'\n",
      "9 b'Temp: 20.50. Hum: 76.20. Cond: 436\\r\\n'\n",
      "10 b'Temp: 20.60. Hum: 76.30. Cond: 435\\r\\n'\n",
      "11 b'Temp: 20.60. Hum: 76.40. Cond: 436\\r\\n'\n",
      "12 b'Temp: 20.60. Hum: 76.50. Cond: 436\\r\\n'\n",
      "13 b'Temp: 20.60. Hum: 76.50. Cond: 436\\r\\n'\n",
      "14 b'Temp: 20.60. Hum: 76.60. Cond: 436\\r\\n'\n",
      "15 b'Temp: 20.60. Hum: 76.60. Cond: 437\\r\\n'\n",
      "16 b'Temp: 20.60. Hum: 76.70. Cond: 436\\r\\n'\n",
      "17 b'Temp: 20.60. Hum: 76.70. Cond: 436\\r\\n'\n",
      "18 b'Temp: 20.60. Hum: 76.80. Cond: 437\\r\\n'\n",
      "19 b'Temp: 20.60. Hum: 76.80. Cond: 437\\r\\n'\n",
      "20 b'Temp: 20.60. Hum: 76.80. Cond: 437\\r\\n'\n",
      "21 b'Temp: 20.60. Hum: 76.90. Cond: 438\\r\\n'\n",
      "22 b'Temp: 20.60. Hum: 77.00. Cond: 437\\r\\n'\n",
      "23 b'Temp: 20.60. Hum: 77.10. Cond: 437\\r\\n'\n",
      "24 b'Temp: 20.60. Hum: 77.10. Cond: 438\\r\\n'\n",
      "25 b'Temp: 20.60. Hum: 77.10. Cond: 438\\r\\n'\n",
      "26 b'Temp: 20.60. Hum: 77.20. Cond: 438\\r\\n'\n",
      "27 b'Temp: 20.60. Hum: 77.20. Cond: 437\\r\\n'\n",
      "28 b'Temp: 20.60. Hum: 77.20. Cond: 437\\r\\n'\n",
      "29 b'Temp: 20.60. Hum: 77.20. Cond: 438\\r\\n'\n",
      "30 b'Temp: 20.60. Hum: 77.30. Cond: 438\\r\\n'\n",
      "31 b'Temp: 20.60. Hum: 77.40. Cond: 438\\r\\n'\n",
      "32 b'Temp: 20.60. Hum: 77.40. Cond: 439\\r\\n'\n",
      "33 b'Temp: 20.60. Hum: 77.30. Cond: 438\\r\\n'\n",
      "34 b'Temp: 20.60. Hum: 77.40. Cond: 439\\r\\n'\n",
      "35 b'Temp: 20.60. Hum: 77.40. Cond: 439\\r\\n'\n",
      "36 b'Temp: 20.60. Hum: 77.40. Cond: 438\\r\\n'\n",
      "37 b'Temp: 20.70. Hum: 77.40. Cond: 439\\r\\n'\n",
      "38 b'Temp: 20.70. Hum: 77.50. Cond: 438\\r\\n'\n",
      "39 b'Temp: 20.70. Hum: 77.50. Cond: 438\\r\\n'\n",
      "40 b'Temp: 20.70. Hum: 77.50. Cond: 439\\r\\n'\n",
      "41 b'Temp: 20.70. Hum: 77.50. Cond: 439\\r\\n'\n",
      "42 b'Temp: 20.70. Hum: 77.50. Cond: 439\\r\\n'\n",
      "43 b'Temp: 20.70. Hum: 77.50. Cond: 439\\r\\n'\n",
      "44 b'Temp: 20.70. Hum: 77.50. Cond: 438\\r\\n'\n",
      "45 b'Temp: 20.70. Hum: 77.60. Cond: 439\\r\\n'\n",
      "46 b'Temp: 20.70. Hum: 77.60. Cond: 439\\r\\n'\n",
      "47 b'Temp: 20.70. Hum: 77.60. Cond: 440\\r\\n'\n",
      "48 b'Temp: 20.70. Hum: 77.60. Cond: 440\\r\\n'\n",
      "49 b'Temp: 20.70. Hum: 77.70. Cond: 438\\r\\n'\n",
      "50 b'Temp: 20.70. Hum: 77.60. Cond: 440\\r\\n'\n",
      "51 b'Temp: 20.70. Hum: 77.60. Cond: 440\\r\\n'\n",
      "52 b'Temp: 20.70. Hum: 77.70. Cond: 440\\r\\n'\n",
      "53 b'Temp: 20.70. Hum: 77.70. Cond: 440\\r\\n'\n",
      "54 b'Temp: 20.70. Hum: 77.70. Cond: 439\\r\\n'\n",
      "55 b'Temp: 20.70. Hum: 77.70. Cond: 440\\r\\n'\n",
      "56 b'Temp: 20.70. Hum: 77.70. Cond: 438\\r\\n'\n",
      "57 b'Temp: 20.70. Hum: 77.70. Cond: 439\\r\\n'\n",
      "58 b'Temp: 20.70. Hum: 77.70. Cond: 439\\r\\n'\n",
      "59 b'Temp: 20.70. Hum: 77.70. Cond: 439\\r\\n'\n",
      "60 b'Temp: 20.70. Hum: 77.80. Cond: 439\\r\\n'\n",
      "61 b'Temp: 20.70. Hum: 77.70. Cond: 440\\r\\n'\n",
      "62 b'Temp: 20.70. Hum: 77.70. Cond: 440\\r\\n'\n",
      "63 b'Temp: 20.70. Hum: 77.80. Cond: 440\\r\\n'\n",
      "64 b'Temp: 20.80. Hum: 77.80. Cond: 439\\r\\n'\n",
      "65 b'Temp: 20.70. Hum: 77.80. Cond: 439\\r\\n'\n",
      "66 b'Temp: 20.80. Hum: 77.80. Cond: 439\\r\\n'\n",
      "67 b'Temp: 20.80. Hum: 77.80. Cond: 440\\r\\n'\n",
      "68 b'Temp: 20.80. Hum: 77.80. Cond: 439\\r\\n'\n",
      "69 b'Temp: 20.80. Hum: 77.90. Cond: 440\\r\\n'\n",
      "70 b'Temp: 20.80. Hum: 77.80. Cond: 440\\r\\n'\n",
      "71 b'Temp: 20.80. Hum: 77.90. Cond: 440\\r\\n'\n",
      "72 b'Temp: 20.80. Hum: 77.90. Cond: 439\\r\\n'\n",
      "73 b'Temp: 20.80. Hum: 77.90. Cond: 439\\r\\n'\n",
      "74 b'Temp: 20.80. Hum: 77.90. Cond: 440\\r\\n'\n",
      "75 b'Temp: 20.80. Hum: 77.90. Cond: 440\\r\\n'\n",
      "76 b'Temp: 20.80. Hum: 77.90. Cond: 439\\r\\n'\n",
      "77 b'Temp: 20.80. Hum: 77.90. Cond: 439\\r\\n'\n",
      "78 b'Temp: 20.80. Hum: 77.90. Cond: 440\\r\\n'\n",
      "79 b'Temp: 20.80. Hum: 77.90. Cond: 440\\r\\n'\n",
      "80 b'Temp: 20.80. Hum: 78.00. Cond: 439\\r\\n'\n",
      "81 b'Temp: 20.80. Hum: 77.90. Cond: 439\\r\\n'\n",
      "82 b'Temp: 20.80. Hum: 77.90. Cond: 439\\r\\n'\n",
      "83 b'Temp: 20.80. Hum: 77.90. Cond: 439\\r\\n'\n",
      "84 b'Temp: 20.80. Hum: 77.90. Cond: 439\\r\\n'\n",
      "85 b'Temp: 20.80. Hum: 77.90. Cond: 440\\r\\n'\n",
      "86 b'Temp: 20.80. Hum: 78.00. Cond: 440\\r\\n'\n",
      "87 b'Temp: 20.80. Hum: 77.90. Cond: 439\\r\\n'\n",
      "88 b'Temp: 20.80. Hum: 78.00. Cond: 440\\r\\n'\n",
      "89 b'Temp: 20.80. Hum: 78.00. Cond: 440\\r\\n'\n",
      "90 b'Temp: 20.80. Hum: 78.00. Cond: 440\\r\\n'\n",
      "91 b'Temp: 20.80. Hum: 78.00. Cond: 440\\r\\n'\n",
      "92 b'Temp: 20.80. Hum: 77.90. Cond: 440\\r\\n'\n",
      "93 b'Temp: 20.80. Hum: 78.00. Cond: 440\\r\\n'\n",
      "94 b'Temp: 20.80. Hum: 77.90. Cond: 440\\r\\n'\n",
      "95 b'Temp: 20.80. Hum: 78.00. Cond: 440\\r\\n'\n",
      "96 b'Temp: 20.80. Hum: 77.90. Cond: 440\\r\\n'\n",
      "97 b'Temp: 20.80. Hum: 78.00. Cond: 440\\r\\n'\n",
      "98 b'Temp: 20.80. Hum: 78.00. Cond: 440\\r\\n'\n",
      "99 b'Temp: 20.80. Hum: 78.00. Cond: 440\\r\\n'\n",
      "100 b'Temp: 20.80. Hum: 78.00. Cond: 440\\r\\n'\n",
      "101 b'Temp: 20.80. Hum: 78.00. Cond: 440\\r\\n'\n",
      "102 b'Temp: 20.80. Hum: 78.00. Cond: 440\\r\\n'\n",
      "103 b'Temp: 20.80. Hum: 78.00. Cond: 440\\r\\n'\n",
      "104 b'Temp: 20.80. Hum: 78.00. Cond: 440\\r\\n'\n"
     ]
    }
   ],
   "source": [
    "ser = serial.Serial(port, 9600)\n",
    "\n",
    "# remove all serial data from the buffer before reading\n",
    "ser.reset_input_buffer()\n",
    "\n",
    "data = []\n",
    "\n",
    "for i in range(105):\n",
    "    # skip the first line if it is incomplete\n",
    "    if i ==0:\n",
    "        continue\n",
    "    dat = ser.readline()\n",
    "    data.append(str(dat))\n",
    "    print(str(i) + ' ' + str(dat))\n",
    "\n",
    "ser.close()"
   ]
  },
  {
   "cell_type": "code",
   "execution_count": 117,
   "id": "dba4d10a",
   "metadata": {},
   "outputs": [],
   "source": [
    "# get the 100 last lines\n",
    "data = data[-100:]"
   ]
  },
  {
   "cell_type": "code",
   "execution_count": 118,
   "id": "1163878f84c22d5",
   "metadata": {
    "ExecuteTime": {
     "end_time": "2023-08-07T20:29:44.078551Z",
     "start_time": "2023-08-07T20:29:44.066222900Z"
    },
    "collapsed": false
   },
   "outputs": [],
   "source": [
    "t = [float(val.split('. ')[0].split(' ')[1]) for val in data]\n",
    "h = [float(val.split('. ')[1].split(' ')[1]) for val in data]\n",
    "c = [float(val.split('. ')[2].split(' ')[1].split('\\\\')[0]) for val in data]"
   ]
  },
  {
   "cell_type": "code",
   "execution_count": 119,
   "id": "7f1bc8fc652913fb",
   "metadata": {
    "ExecuteTime": {
     "end_time": "2023-08-07T20:29:44.092304800Z",
     "start_time": "2023-08-07T20:29:44.077902200Z"
    },
    "collapsed": false
   },
   "outputs": [
    {
     "name": "stdout",
     "output_type": "stream",
     "text": [
      "312.15999999999997\n"
     ]
    }
   ],
   "source": [
    "sample = 18\n",
    "wet_weight = 152.66+159.50\n",
    "print(wet_weight)\n",
    "df = pd.DataFrame({'Sample':sample,'Wet weight':wet_weight, 'Dry weight':np.nan, 'Temperature':t, 'Moisture':h, 'Conductivity':c})\n",
    "df.to_csv(f'../Data/data{sample}.csv', index=False)"
   ]
  }
 ],
 "metadata": {
  "kernelspec": {
   "display_name": "Python 3",
   "language": "python",
   "name": "python3"
  },
  "language_info": {
   "codemirror_mode": {
    "name": "ipython",
    "version": 3
   },
   "file_extension": ".py",
   "mimetype": "text/x-python",
   "name": "python",
   "nbconvert_exporter": "python",
   "pygments_lexer": "ipython3",
   "version": "3.10.0"
  }
 },
 "nbformat": 4,
 "nbformat_minor": 5
}
